{
 "cells": [
  {
   "cell_type": "markdown",
   "metadata": {},
   "source": [
    "# Machine Learning prediction, Econometric modelisation and Economic analysis applied to Cardiovascular diseases\n",
    "\n",
    "\n",
    "\n",
    "  * This file is part of project Creation-of-a-search-engine. \n",
    "    It's copyrighted by the contributors\n",
    "  * Copyright (c) 2021 lprtk"
   ]
  },
  {
   "cell_type": "markdown",
   "metadata": {},
   "source": [
    "##### Cardiovascular Disease dataset : https://www.kaggle.com/sulianova/cardiovascular-disease-dataset"
   ]
  },
  {
   "cell_type": "markdown",
   "metadata": {},
   "source": [
    "Can statistical modelling, through estimation and prediction, serve as a decision criterion to ensure effective medical prevention? Giving a cost to health, to choose the most cost-effective treatment is very complicated. Our medical economic analysis first seeks to identify the most important risk factors in the development of cardiovascular diseases. Then, in a second phase, to know how and to whom should be the prevention of these diseases."
   ]
  },
  {
   "cell_type": "markdown",
   "metadata": {},
   "source": [
    "##### Variables & Informations\n",
    "\n",
    "    - Id : It is an identifier assigned to each patient.\n",
    " \n",
    "    - Age : This is the age of each patient in days.\n",
    "\n",
    "    - Gender : Binary variable indicating the gender of each individual (Male = 2 or Female = 1).\n",
    "\n",
    "    - Height : This is the height of the patient (in Cm).\n",
    "\n",
    "    - Weight : This is the weight of the patient (in Kg).\n",
    "\n",
    "    - Ap_hi : Systolic blood pressure. During the systolic phase (in Mmhg).\n",
    "\n",
    "    - Ap_lo : Diastolic Blood Pressure. During the diastole phase (in Mmhg).\n",
    "\n",
    "    - Cholesterol : This is a type of fat found in the blood normally expressed in mg/dl. But here, we have only levels: 1 corresponding to the lowest (so-called normal) amount and 3 to the highest (so-called very high).\\\\\n",
    "\n",
    "    - Glucose : It is the level of Glucose in the blood, expressed also in level 1 to 3.\n",
    "\n",
    "    - Smoke : It is a binary variable that indicates whether the individual smokes or not (Non-smoking = 0 or Smoking = 1).\n",
    "\n",
    "    - Alcool : It is a binary variable that indicates whether the patient is an alcoholic or not (Non-alcoholic = 0 or Alcoholic = 1).\n",
    "\n",
    "    - Active : It is a binary variable that indicates whether the patient is physically active or not (No = 0 or Yes = 1).\n",
    "\n",
    "    - Cardio : It is a binary variable that indicates whether an patient has cardiovascular disease (CVD) or not (Has no CVD = 0 Has a CVD = 1).\n",
    "\n",
    "##### Additional variables created & Informations\n",
    "\n",
    "    - BMI : This is the body mass index. It is classified according to 4 levels: less than 18.5, between 18.5 and 24, between 25 and 29, then greater than or equal to 30.\n",
    "\n",
    "    - BPC : This is blood pressure control. It is categorized into 5 levels: to inf 120mmgh to sup at 180mmgh for Systolic. To inf 80mmgh to sup 12mmgh for Diastolic.\n"
   ]
  },
  {
   "cell_type": "markdown",
   "metadata": {},
   "source": [
    "#### Librairies and data loading"
   ]
  },
  {
   "cell_type": "code",
   "execution_count": null,
   "metadata": {},
   "outputs": [],
   "source": [
    "import numpy as np \n",
    "import pandas as pd \n",
    "import seaborn as sns\n",
    "import matplotlib.pyplot as plt\n",
    "\n",
    "import pandas.util.testing as tm\n",
    "\n",
    "from scipy import stats\n",
    "from scipy.stats import chi2_contingency\n",
    "\n",
    "import statsmodels.api as sm\n",
    "import statsmodels.formula.api as smf\n",
    "\n",
    "from sklearn.neighbors import KNeighborsClassifier \n",
    "from sklearn.ensemble import RandomForestClassifier \n",
    "from sklearn.linear_model import LogisticRegression, SGDClassifier \n",
    "from sklearn.svm import LinearSVC\n",
    "from sklearn.naive_bayes import GaussianNB\n",
    "from sklearn.tree import DecisionTreeClassifier\n",
    "from sklearn.model_selection import train_test_split, GridSearchCV, cross_val_score \n",
    "\n",
    "from sklearn.metrics import classification_report, plot_roc_curve, confusion_matrix \n",
    "\n",
    "path = input(\"Entrer le chemin d'accès aux fichier : \")\n",
    "file = input(\"Entrer le nom du fichier : \")\n",
    "data = pd.read_csv(path+enter_file, sep = \";\")\n",
    "\n",
    "sns.set_style('darkgrid')\n",
    "background_color = ['#eaeaf2']\n",
    "my_palette = ['#FA5858',\n",
    "              '#FA8258',\n",
    "              '#F7D358',\n",
    "              '#ACFA58',\n",
    "              '#58D3F7',\n",
    "              '#5858FA',\n",
    "              '#BE81F7']\n",
    "sns.set_palette(my_palette, 7)"
   ]
  },
  {
   "cell_type": "markdown",
   "metadata": {},
   "source": [
    "#### First impressions of the dataset"
   ]
  },
  {
   "cell_type": "code",
   "execution_count": null,
   "metadata": {},
   "outputs": [],
   "source": [
    "data.shape"
   ]
  },
  {
   "cell_type": "code",
   "execution_count": null,
   "metadata": {},
   "outputs": [],
   "source": [
    "data"
   ]
  },
  {
   "cell_type": "code",
   "execution_count": null,
   "metadata": {},
   "outputs": [],
   "source": [
    "data.info()"
   ]
  },
  {
   "cell_type": "code",
   "execution_count": null,
   "metadata": {},
   "outputs": [],
   "source": [
    "data.describe()"
   ]
  },
  {
   "cell_type": "markdown",
   "metadata": {},
   "source": [
    "## 1. Data Cleaning"
   ]
  },
  {
   "cell_type": "markdown",
   "metadata": {},
   "source": [
    "##### Some columns are renamed"
   ]
  },
  {
   "cell_type": "code",
   "execution_count": null,
   "metadata": {},
   "outputs": [],
   "source": [
    "data.rename(columns={'ap_hi': 'systolic', 'ap_lo': 'diastolic', 'gluc': 'glucose', \n",
    "                   'alco': 'alcohol', 'cardio': 'cardiovascular disease'}, inplace=True)"
   ]
  },
  {
   "cell_type": "markdown",
   "metadata": {},
   "source": [
    "##### 1) We remove the column 'Id' which is useless.\n",
    "##### 2) We look if there are missing values in the dataset.\n",
    "##### 3) We look if there are duplicated values (possible because we have removed the 'Id' column).\n",
    "##### 4) We transform the column 'Age' into years and display additional information.\n",
    "##### 5) We transform the variable 'Gender' into binary, we re-code it into 0 and 1."
   ]
  },
  {
   "cell_type": "code",
   "execution_count": null,
   "metadata": {},
   "outputs": [],
   "source": [
    "data.drop(['id'], axis=1, inplace= True)"
   ]
  },
  {
   "cell_type": "code",
   "execution_count": null,
   "metadata": {},
   "outputs": [],
   "source": [
    "print(\"Il y a {} valeurs manquantes dans le dataset\".format(data.isnull().sum().sum()))\n",
    "print(\"Il y a {} valeurs dupliquées dans le dataset\".format(data.duplicated().sum()))"
   ]
  },
  {
   "cell_type": "code",
   "execution_count": null,
   "metadata": {},
   "outputs": [],
   "source": [
    "data.drop_duplicates(inplace=True)\n",
    "print(\"Il y a {} valeurs dupliquées dans le dataset\".format(data.duplicated().sum()))"
   ]
  },
  {
   "cell_type": "code",
   "execution_count": null,
   "metadata": {},
   "outputs": [],
   "source": [
    "data.loc[:, 'age'] = data.loc[:, 'age'].apply(lambda x: int(x/365))\n",
    "print('Min Age: ', data['age'].min())\n",
    "print('Max Age: ', data['age'].max())\n",
    "print('Mean Age: ', data['age'].mean())"
   ]
  },
  {
   "cell_type": "code",
   "execution_count": null,
   "metadata": {},
   "outputs": [],
   "source": [
    "data.gender = data.gender.replace(2,0)"
   ]
  },
  {
   "cell_type": "markdown",
   "metadata": {},
   "source": [
    "##### 6) We will create a new variable BMI"
   ]
  },
  {
   "cell_type": "code",
   "execution_count": null,
   "metadata": {},
   "outputs": [],
   "source": [
    "data[\"bmi\"] = data[\"weight\"] / (data[\"height\"]/100)**2"
   ]
  },
  {
   "cell_type": "markdown",
   "metadata": {},
   "source": [
    "##### 7) We are going to classify the BMI of individuals by level"
   ]
  },
  {
   "cell_type": "code",
   "execution_count": null,
   "metadata": {},
   "outputs": [],
   "source": [
    "data['bmi_class'] = 0\n",
    "data.loc[(data['bmi'] < 18.5), 'bmi_class'] = 1\n",
    "data.loc[(data['bmi'] >= 18.5) & (data['bmi'] < 25), 'bmi_class'] = 2\n",
    "data.loc[(data['bmi'] >= 25) & (data['bmi'] < 30), 'bmi_class'] = 3\n",
    "data.loc[(data['bmi'] >= 30), 'bmi_class'] = 4"
   ]
  },
  {
   "cell_type": "markdown",
   "metadata": {},
   "source": [
    "##### 8) Now we need to remove the outliers of blood pressure, weight and height:\n",
    "The normal systolic blood pressure is between 90 and 120.'\n",
    "\n",
    "Similarly, diastolic blood pressure should be between 60 and 90 for a healthy individual. '\n",
    "\n",
    "We are going to remove extremely rare cases of size and weight. Since the data is quite large, there will be no problem during modeling."
   ]
  },
  {
   "cell_type": "code",
   "execution_count": null,
   "metadata": {},
   "outputs": [],
   "source": [
    "# Remove Systolic and Diastolic blood pressiure outliers\n",
    "out_filter = ((data[\"ap_hi\"]>250) | (data[\"ap_lo\"]>200))\n",
    "print(\"There is {} outlier\".format(data[out_filter][\"cardio\"].count()))\n",
    "data = data[~out_filter]\n",
    "\n",
    "out_filter2 = ((data[\"ap_hi\"]<50) | (data[\"ap_lo\"]<50))\n",
    "print(\"There is {} outlier\".format(data[out_filter2][\"cardio\"].count()))\n",
    "data = data[~out_filter2]\n",
    "\n",
    "data = data[data['ap_hi'] > data['ap_lo']].reset_index(drop=True)"
   ]
  },
  {
   "cell_type": "markdown",
   "metadata": {},
   "source": [
    "##### Tails can be removed from CI distributions of patient weight and height"
   ]
  },
  {
   "cell_type": "code",
   "execution_count": null,
   "metadata": {},
   "outputs": [],
   "source": [
    "weight_min_outlier_mask = data['weight'] > data['weight'].quantile(0.005)\n",
    "weight_max_outlier_mask = data['weight'] < data['weight'].quantile(0.975)\n",
    "data = data[(weight_min_outlier_mask) & (weight_max_outlier_mask)]\n",
    "\n",
    "height_min_outlier_mask = data['height'] > data['height'].quantile(0.005)\n",
    "height_max_outlier_mask = data['height'] < data['height'].quantile(0.975)\n",
    "data = data[(height_min_outlier_mask) & (height_max_outlier_mask)]"
   ]
  },
  {
   "cell_type": "markdown",
   "metadata": {},
   "source": [
    "##### Body mass index outliers are also removed."
   ]
  },
  {
   "cell_type": "code",
   "execution_count": null,
   "metadata": {},
   "outputs": [],
   "source": [
    "out_filter4 = ((data[\"bmi\"]>72) | (data[\"bmi\"]<=14))\n",
    "print(\"There is {} outlier\".format(data[out_filter4][\"cardiovascular disease\"].count()))\n",
    "data = data[~out_filter4]"
   ]
  },
  {
   "cell_type": "markdown",
   "metadata": {},
   "source": [
    "##### Once the outliers are removed, we will classify the blood pressure levels with a variable 'blood pressure control'."
   ]
  },
  {
   "cell_type": "code",
   "execution_count": null,
   "metadata": {},
   "outputs": [],
   "source": [
    "data['bpc'] = 0\n",
    "data.loc[(data['systolic'] < 120) & (data['diastolic'] < 80), 'bpc'] = 1\n",
    "data.loc[((data['systolic'] >= 120) & (data['systolic'] < 130)) &\n",
    "         ((data['diastolic'] < 80)), 'bpc'] = 2\n",
    "data.loc[((data['systolic'] >= 130) & (data['systolic'] < 140)) |\n",
    "         ((data['diastolic'] >= 80) & (data['diastolic'] < 90)), 'bpc'] = 3\n",
    "data.loc[((data['systolic'] >= 140) & (data['systolic'] < 180)) |\n",
    "         ((data['diastolic'] >= 90) & (data['diastolic'] < 120)), 'bpc'] = 4\n",
    "data.loc[(data['systolic'] >= 180) | (data['diastolic'] >= 120), 'bpc'] = 5"
   ]
  },
  {
   "cell_type": "markdown",
   "metadata": {},
   "source": [
    "##### Let's take a look at the status of our data now:"
   ]
  },
  {
   "cell_type": "code",
   "execution_count": null,
   "metadata": {},
   "outputs": [],
   "source": [
    "print('Total {} datapoints remaining with {} features'.format(data.shape[0], data.shape[1]))\n",
    "print(\"Tous les outliers ont été suprrimés\")\n",
    "data"
   ]
  },
  {
   "cell_type": "markdown",
   "metadata": {},
   "source": [
    "## 2. Data Visualization"
   ]
  },
  {
   "cell_type": "markdown",
   "metadata": {},
   "source": [
    "#### 2.1. Distribution of men and women in the data"
   ]
  },
  {
   "cell_type": "code",
   "execution_count": null,
   "metadata": {},
   "outputs": [],
   "source": [
    "sns.countplot(x= 'gender', hue= 'cardiovascular disease', data= data,)\n",
    "plt.title('Comparation - {}'.format('gender'))\n",
    "plt.legend(['Femmes (0)', 'Hommes (1)'], loc= 'upper right')"
   ]
  },
  {
   "cell_type": "markdown",
   "metadata": {},
   "source": [
    "#### 2.2. What about the variable 'age'?"
   ]
  },
  {
   "cell_type": "code",
   "execution_count": null,
   "metadata": {},
   "outputs": [],
   "source": [
    "fig, ax = plt.subplots(figsize = (10, 6))\n",
    "sns.distplot(data['age'])\n",
    "plt.xlim(data['age'].min(), data['age'].max())\n",
    "plt.title('Comparation - {}'.format('age'))\n",
    "plt.subplots_adjust(hspace= 0.6)\n",
    "plt.show()"
   ]
  },
  {
   "cell_type": "code",
   "execution_count": null,
   "metadata": {},
   "outputs": [],
   "source": [
    "fig, ax = plt.subplots(figsize = (10, 6))\n",
    "sns.countplot(x= 'age', hue= 'cardiovascular disease', data= data)\n",
    "plt.title('CD - Cardiovascular Disease')\n",
    "plt.legend(['CD (0)', 'CD (1)'], loc= 'upper right')\n",
    "\n",
    "plt.subplots_adjust(hspace= 0.3)\n",
    "plt.show()"
   ]
  },
  {
   "cell_type": "markdown",
   "metadata": {},
   "source": [
    "#### 2.3. Distribution of weights and heights of individuals"
   ]
  },
  {
   "cell_type": "code",
   "execution_count": null,
   "metadata": {},
   "outputs": [],
   "source": [
    "fig, ax = plt.subplots(figsize = (10, 6))\n",
    "\n",
    "plt.subplot(2,2,1)\n",
    "sns.distplot(data['height'])\n",
    "plt.title('Distribtion')\n",
    "\n",
    "plt.subplot(2,2,2)\n",
    "sns.distplot(data['height'], kde= False, )\n",
    "plt.xlim(140, 190)\n",
    "plt.title('Zoom / No KDE')\n",
    "\n",
    "plt.subplot(2,2,3)\n",
    "sns.distplot(data['weight'])\n",
    "plt.title('Distribtion')\n",
    "\n",
    "plt.subplot(2,2,4)\n",
    "sns.distplot(data['weight'], kde= False)\n",
    "plt.xlim(40, 130)\n",
    "plt.title('Zoom / No KDE')\n",
    "\n",
    "plt.subplots_adjust(hspace= 0.6)\n",
    "plt.show()"
   ]
  },
  {
   "cell_type": "code",
   "execution_count": null,
   "metadata": {},
   "outputs": [],
   "source": [
    "fig, (ax1) = plt.subplots(1,1, figsize=(10,10))\n",
    "sns.boxenplot(data['cardiovascular disease'],(data['height']),ax=ax1)\n",
    "ax1.set_title('Height / Diseased')\n",
    "plt.show()"
   ]
  },
  {
   "cell_type": "markdown",
   "metadata": {},
   "source": [
    "#### 2.4. Distribution of individuals with different Glucose and Cholesterol levels"
   ]
  },
  {
   "cell_type": "code",
   "execution_count": null,
   "metadata": {},
   "outputs": [],
   "source": [
    "plt.subplot(2,1,1)\n",
    "sns.countplot('cholesterol', data= data)\n",
    "plt.title('Cholesterol')\n",
    "\n",
    "plt.subplot(2,1,2)\n",
    "sns.countplot('glucose', data= data)\n",
    "plt.title('Glucose')\n",
    "\n",
    "plt.subplots_adjust(hspace= 0.6)\n",
    "plt.show()"
   ]
  },
  {
   "cell_type": "markdown",
   "metadata": {},
   "source": [
    "#### 2.5. Visualization of smokers, alcoholics, sprotics and overall individuals with cardiovascular disease."
   ]
  },
  {
   "cell_type": "code",
   "execution_count": null,
   "metadata": {},
   "outputs": [],
   "source": [
    "fig, ax = plt.subplots(figsize = (10, 6))\n",
    "\n",
    "plt.subplot(2,2,1)\n",
    "sns.countplot('smoke', data= data)\n",
    "plt.title('Smoke')\n",
    "\n",
    "plt.subplot(2,2,2)\n",
    "sns.countplot('alcohol', data= data)\n",
    "plt.title('Alcohol')\n",
    "\n",
    "plt.subplot(2,2,3)\n",
    "sns.countplot('active', data= data)\n",
    "plt.title('Activity')\n",
    "\n",
    "plt.subplot(2,2,4)\n",
    "sns.countplot('cardiovascular disease', data= data)\n",
    "plt.title('Cardio disease')\n",
    "\n",
    "plt.subplots_adjust(hspace= 0.6)\n",
    "plt.show()"
   ]
  },
  {
   "cell_type": "code",
   "execution_count": null,
   "metadata": {},
   "outputs": [],
   "source": [
    "data['smoke/drink'] = data['smoke'].apply(str)+'|'+data['alcohol'].apply(str)\n",
    "tmp = pd.crosstab(data['smoke/drink'],data['cardiovascular disease'],normalize='index')\n",
    "tmp.reset_index()\n",
    "tmp.columns = ['Not diseased','diseased']\n",
    "sns.countplot(data['smoke/drink'],order=list(tmp.index))\n",
    "plt.title(\"Nombre de patients atteint d'une maladie cardiovasculaire\")\n",
    "plt.xlabel('Fumeur/Alcohol : \\n 0|0: non fumeur et non alcoholique ; 0|1: non fumeur alcoholique ; 1|0: fumeur et non alcoholique ; 1|1: fumeur et alcoholique')"
   ]
  },
  {
   "cell_type": "markdown",
   "metadata": {},
   "source": [
    "#### 2.6. Complete data visualization of the dataset"
   ]
  },
  {
   "cell_type": "code",
   "execution_count": null,
   "metadata": {},
   "outputs": [],
   "source": [
    "def habitPlot(dataframe, col):\n",
    "    sns.countplot(x= col,\n",
    "                  hue= 'cardiovascular disease',\n",
    "                  data= data,\n",
    "                  palette= my_palette)\n",
    "    plt.title('Comparation - {}'.format(col))\n",
    "    plt.legend(['CD (0)', 'CD (1)'],\n",
    "               loc= 'upper right')"
   ]
  },
  {
   "cell_type": "code",
   "execution_count": null,
   "metadata": {},
   "outputs": [],
   "source": [
    "fig, ax = plt.subplots(figsize = (10, 12))\n",
    "fig.suptitle('CD -> Cardiovasculare Disease')\n",
    "\n",
    "plt.subplot(4,2,1)\n",
    "habitPlot(data, 'gender')\n",
    "\n",
    "plt.subplot(4,2,2)\n",
    "habitPlot(data, 'cholesterol')\n",
    "\n",
    "plt.subplot(4,2,3)\n",
    "habitPlot(data, 'glucose')\n",
    "\n",
    "plt.subplot(4,2,4)\n",
    "habitPlot(data, 'smoke')\n",
    "\n",
    "plt.subplot(4,2,5)\n",
    "habitPlot(data, 'alcohol')\n",
    "\n",
    "plt.subplot(4,2,6)\n",
    "habitPlot(data, 'active')\n",
    "\n",
    "plt.subplot(4,2,7)\n",
    "habitPlot(data, 'bmi_class')\n",
    "\n",
    "plt.subplot(4,2,8)\n",
    "habitPlot(data, 'bpc')\n",
    "\n",
    "plt.subplots_adjust(hspace= 0.6, wspace= 0.3)\n",
    "plt.show()"
   ]
  },
  {
   "cell_type": "markdown",
   "metadata": {},
   "source": [
    "#### 2.7. Complete dataset visualization"
   ]
  },
  {
   "cell_type": "code",
   "execution_count": null,
   "metadata": {},
   "outputs": [],
   "source": [
    "fig, ax = plt.subplots(figsize = (10, 6))\n",
    "\n",
    "plt.subplot(3,2,1)\n",
    "sns.boxenplot(data['cardiovascular disease'],(data['weight']))\n",
    "plt.title('Weight')\n",
    "\n",
    "plt.subplot(3,2,2)\n",
    "sns.boxenplot(data['cardiovascular disease'],(data['height']))\n",
    "plt.title('Height')\n",
    "\n",
    "plt.subplot(3,2,3)\n",
    "sns.boxenplot(data['cardiovascular disease'],(data['systolic']))\n",
    "plt.title('Systolic')\n",
    "\n",
    "plt.subplot(3,2,4)\n",
    "sns.boxenplot(data['cardiovascular disease'],(data['diastolic']))\n",
    "plt.title('Diastolic')\n",
    "\n",
    "plt.subplot(3,2,5)\n",
    "sns.boxenplot(data['cardiovascular disease'],(data['age']))\n",
    "plt.title('Age')\n",
    "\n",
    "plt.subplot(3,2,6)\n",
    "sns.boxenplot(data['cardiovascular disease'],(data['bmi']))\n",
    "plt.title('BMI')\n",
    "\n",
    "plt.subplots_adjust(hspace= 0.6)\n",
    "plt.show()"
   ]
  },
  {
   "cell_type": "markdown",
   "metadata": {},
   "source": [
    "#### 2.8. Heatmap correlation"
   ]
  },
  {
   "cell_type": "code",
   "execution_count": null,
   "metadata": {},
   "outputs": [],
   "source": [
    "corr = data.corr()\n",
    "f, ax = plt.subplots(figsize = (15,15))\n",
    "sns.heatmap(corr, annot=True, fmt=\".3f\", linewidths=0.5, ax=ax)"
   ]
  },
  {
   "cell_type": "markdown",
   "metadata": {},
   "source": [
    "## 3. Data Analys, Modeling"
   ]
  },
  {
   "cell_type": "markdown",
   "metadata": {},
   "source": [
    "### 3.1. Tests and Regression"
   ]
  },
  {
   "cell_type": "markdown",
   "metadata": {},
   "source": [
    "##### 3.1.1. Function for Chi2 tests"
   ]
  },
  {
   "cell_type": "code",
   "execution_count": null,
   "metadata": {},
   "outputs": [],
   "source": [
    "## Fonction Tests du Chi2\n",
    "def chi2_test(varA, varB):\n",
    "    h = pd.crosstab(varA, varB, margins=True)\n",
    "    h\n",
    "    sns.heatmap(pd.crosstab(varA, varB, normalize=True), \n",
    "                annot=True,cmap=sns.cubehelix_palette())\n",
    "    \n",
    "    chi2, p, dof, ex = chi2_contingency(h)\n",
    "    print(\"chi2 = \", chi2)\n",
    "    print(\"p-val = \", p)\n",
    "    print(\"degree of freedom = \",dof)"
   ]
  },
  {
   "cell_type": "markdown",
   "metadata": {},
   "source": [
    "###### Q1: Does gender influence CVDs?"
   ]
  },
  {
   "cell_type": "code",
   "execution_count": null,
   "metadata": {},
   "outputs": [],
   "source": [
    "chi2_test(data['gender'], data['cardiovascular disease'])"
   ]
  },
  {
   "cell_type": "markdown",
   "metadata": {},
   "source": [
    "###### Q2: Does age have an influence on CVDs?"
   ]
  },
  {
   "cell_type": "code",
   "execution_count": null,
   "metadata": {},
   "outputs": [],
   "source": [
    "chi2_test(data['age'], data['cardiovascular disease'])"
   ]
  },
  {
   "cell_type": "markdown",
   "metadata": {},
   "source": [
    "###### Q3: Does smoking influence CVDs?"
   ]
  },
  {
   "cell_type": "code",
   "execution_count": null,
   "metadata": {},
   "outputs": [],
   "source": [
    "chi2_test(data['smoke'], data['cardiovascular disease'])"
   ]
  },
  {
   "cell_type": "markdown",
   "metadata": {},
   "source": [
    "###### Q4: Does physical activity influence CVDs?"
   ]
  },
  {
   "cell_type": "code",
   "execution_count": null,
   "metadata": {},
   "outputs": [],
   "source": [
    "chi2_test(data['active'], data['cardiovascular disease'])"
   ]
  },
  {
   "cell_type": "markdown",
   "metadata": {},
   "source": [
    "###### Q5: Does alcohol influence CVDs?"
   ]
  },
  {
   "cell_type": "code",
   "execution_count": null,
   "metadata": {},
   "outputs": [],
   "source": [
    "chi2_test(data['alcohol'], data['cardiovascular disease'])"
   ]
  },
  {
   "cell_type": "markdown",
   "metadata": {},
   "source": [
    "###### Q6: Does cholesterol have an influence on CVDs?"
   ]
  },
  {
   "cell_type": "code",
   "execution_count": null,
   "metadata": {},
   "outputs": [],
   "source": [
    "chi2_test(data['cholesterol'], data['cardiovascular disease'])"
   ]
  },
  {
   "cell_type": "markdown",
   "metadata": {},
   "source": [
    "###### Q7: Does glucose have an influence on CVDs?"
   ]
  },
  {
   "cell_type": "code",
   "execution_count": null,
   "metadata": {},
   "outputs": [],
   "source": [
    "chi2_test(data['glucose'], data['cardiovascular disease'])"
   ]
  },
  {
   "cell_type": "markdown",
   "metadata": {},
   "source": [
    "###### Q8: Does bmi have an influence on CVDs?"
   ]
  },
  {
   "cell_type": "code",
   "execution_count": null,
   "metadata": {},
   "outputs": [],
   "source": [
    "chi2_test(data['bmi_class'], data['cardiovascular disease'])"
   ]
  },
  {
   "cell_type": "markdown",
   "metadata": {},
   "source": [
    "###### Q9: Does bpc have an influence on CVDs?"
   ]
  },
  {
   "cell_type": "code",
   "execution_count": null,
   "metadata": {},
   "outputs": [],
   "source": [
    "chi2_test(data['bpc'], data['cardiovascular disease'])"
   ]
  },
  {
   "cell_type": "markdown",
   "metadata": {},
   "source": [
    "###### Q10: Does ap_hi have an influence on CVDs?"
   ]
  },
  {
   "cell_type": "code",
   "execution_count": null,
   "metadata": {},
   "outputs": [],
   "source": [
    "chi2_test(data['systolic'], data['cardiovascular disease'])"
   ]
  },
  {
   "cell_type": "markdown",
   "metadata": {},
   "source": [
    "###### Q11: Does ap_lo have any influence on CVDs?"
   ]
  },
  {
   "cell_type": "code",
   "execution_count": null,
   "metadata": {},
   "outputs": [],
   "source": [
    "chi2_test(data['diastolic'], data['cardiovascular disease'])"
   ]
  },
  {
   "cell_type": "markdown",
   "metadata": {},
   "source": [
    "##### 3.1.1.2. GLM Estimation"
   ]
  },
  {
   "cell_type": "code",
   "execution_count": null,
   "metadata": {},
   "outputs": [],
   "source": [
    "model = smf.glm(formula = 'cardiovascular disease ~ age+bmi+bpc+smoke+active+alcohol+cholesterol+glucose', \n",
    "                data=data, family=sm.families.Binomial())\n",
    "result = model.fit()\n",
    "result.summary()"
   ]
  },
  {
   "cell_type": "markdown",
   "metadata": {},
   "source": [
    "### 3.2. Machine Learning"
   ]
  },
  {
   "cell_type": "code",
   "execution_count": null,
   "metadata": {},
   "outputs": [],
   "source": [
    "data_train = data.drop(['cardiovascular disease'], axis=1)\n",
    "data_test = data['cardiovascular disease']\n",
    "\n",
    "train, test, target_train, target_test = train_test_split(data_train, data_test, test_size=0.2, random_state=42)"
   ]
  },
  {
   "cell_type": "markdown",
   "metadata": {},
   "source": [
    "#### 3.2.1 Machine learning with function"
   ]
  },
  {
   "cell_type": "code",
   "execution_count": null,
   "metadata": {},
   "outputs": [],
   "source": [
    "def predict(var, method, X_train, Y_train, X_test, Y_test):\n",
    "    var.fit(X_train, Y_train)\n",
    "    scores = cross_val_score(var, X_train, Y_train, cv=10)\n",
    "    print('The ',method,' gives an average accuracy of {0:.2f} % with minimun of {1:.2f} % and maximum of {2:.2f} % accuracy'.format(scores.mean() * 100, scores.min() * 100, scores.max() * 100))\n",
    "    \n",
    "    Y_pred = var.predict(X_test)\n",
    "    print(classification_report(Y_test, Y_pred))\n",
    "    \n",
    "    plt.rcParams['figure.figsize'] = (5, 5) \n",
    "    sns.heatmap(confusion_matrix(Y_test, Y_pred), annot = True, linewidths=.5, cmap=\"YlGnBu\")\n",
    "    plt.title('Corelation Between Features')\n",
    "    plt.show()\n",
    "    \n",
    "    print('True Positive Cases : {}'.format(confusion_matrix(Y_test, Y_pred)[1][1]))\n",
    "    print('True Negative Cases : {}'.format(confusion_matrix(Y_test, Y_pred)[0][0]))\n",
    "    print('False Positive Cases : {}'.format(confusion_matrix(Y_test, Y_pred)[0][1]))\n",
    "    print('False Negative Cases : {}'.format(confusion_matrix(Y_test, Y_pred)[1][0]))\n",
    "    \n",
    "    # Plot ROC curve\n",
    "    plot_roc_curve(var, X_test, Y_test)\n",
    "    plt.xlabel('False Positive Rate or (1 - Specifity)')\n",
    "    plt.ylabel('True Positive Rate or (Sensitivity)')\n",
    "    plt.title('Receiver Operating Characteristic Curve')\n",
    "    plt.legend(loc=\"lower right\")\n",
    "    plt.show()"
   ]
  },
  {
   "cell_type": "markdown",
   "metadata": {},
   "source": [
    "##### 3.2.1.1. Random Forest"
   ]
  },
  {
   "cell_type": "code",
   "execution_count": null,
   "metadata": {},
   "outputs": [],
   "source": [
    "## Random Forest\n",
    "rfc = RandomForestClassifier(random_state=42, n_estimators=100, max_depth= 10, criterion = 'entropy')\n",
    "predict(rfc, RandomForestClassifier, train, target_train, test, target_test)\n",
    "\n",
    "feat_importance = rfc.feature_importances_\n",
    "feat_importance\n",
    "plt.rc('xtick', labelsize = 12)\n",
    "pd.DataFrame({'Feature Importance':feat_importance},\n",
    "             index=train.columns).sort_values(by='Feature Importance',ascending=True).plot(kind='barh', figsize = (8,8))\n"
   ]
  },
  {
   "cell_type": "markdown",
   "metadata": {},
   "source": [
    "##### 3.2.1.2. KNN"
   ]
  },
  {
   "cell_type": "code",
   "execution_count": null,
   "metadata": {},
   "outputs": [],
   "source": [
    "## KNN\n",
    "knn = KNeighborsClassifier(n_neighbors=50, p=1, weights='uniform')\n",
    "predict(knn, KNeighborsClassifier, train, target_train, test, target_test)"
   ]
  },
  {
   "cell_type": "markdown",
   "metadata": {},
   "source": [
    "##### 3.2.1.3. Logistic Regression"
   ]
  },
  {
   "cell_type": "code",
   "execution_count": null,
   "metadata": {},
   "outputs": [],
   "source": [
    "## Regression Logistique \n",
    "logreg = LogisticRegression()\n",
    "predict(logreg, LogisticRegression, train, target_train, test, target_test)"
   ]
  },
  {
   "cell_type": "markdown",
   "metadata": {},
   "source": [
    "##### 3.2.1.4. Linear SVC"
   ]
  },
  {
   "cell_type": "code",
   "execution_count": null,
   "metadata": {},
   "outputs": [],
   "source": [
    "## Linear SVC\n",
    "linear_svc = LinearSVC(dual=False)  # dual=False when n_samples > n_features.\n",
    "predict(linear_svc, LinearSVC, train, target_train, test, target_test)"
   ]
  },
  {
   "cell_type": "markdown",
   "metadata": {},
   "source": [
    "##### 3.2.1.5. Decision Tree Classifier"
   ]
  },
  {
   "cell_type": "code",
   "execution_count": null,
   "metadata": {},
   "outputs": [],
   "source": [
    "## Decision Tree Classifier\n",
    "decision_tree = DecisionTreeClassifier()\n",
    "predict(decision_tree, DecisionTreeClassifier, train, target_train, test, target_test)"
   ]
  },
  {
   "cell_type": "markdown",
   "metadata": {},
   "source": [
    "##### 3.2.1.6. Gaussian Naive Bayes"
   ]
  },
  {
   "cell_type": "code",
   "execution_count": null,
   "metadata": {},
   "outputs": [],
   "source": [
    "## Gaussian Naive Bayes\n",
    "gaussian = GaussianNB()\n",
    "predict(gaussian, GaussianNB, train, target_train, test, target_test)"
   ]
  },
  {
   "cell_type": "markdown",
   "metadata": {},
   "source": [
    "##### 3.2.1.7. Stochastic Gradient Descent"
   ]
  },
  {
   "cell_type": "code",
   "execution_count": null,
   "metadata": {},
   "outputs": [],
   "source": [
    "## Stochastic Gradient Descent\n",
    "sgd = SGDClassifier()\n",
    "predict(sgd, SGDClassifier, train, target_train, test, target_test)"
   ]
  }
 ],
 "metadata": {
  "kernelspec": {
   "display_name": "Python 3",
   "language": "python",
   "name": "python3"
  },
  "language_info": {
   "codemirror_mode": {
    "name": "ipython",
    "version": 3
   },
   "file_extension": ".py",
   "mimetype": "text/x-python",
   "name": "python",
   "nbconvert_exporter": "python",
   "pygments_lexer": "ipython3",
   "version": "3.8.3"
  }
 },
 "nbformat": 4,
 "nbformat_minor": 4
}
